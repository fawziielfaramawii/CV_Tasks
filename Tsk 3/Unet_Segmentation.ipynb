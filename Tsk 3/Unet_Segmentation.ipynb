{
 "cells": [
  {
   "cell_type": "code",
   "execution_count": null,
   "metadata": {},
   "outputs": [
    {
     "name": "stdout",
     "output_type": "stream",
     "text": [
      "WARNING:tensorflow:From C:\\Users\\FreeComp\\AppData\\Local\\Packages\\PythonSoftwareFoundation.Python.3.12_qbz5n2kfra8p0\\LocalCache\\local-packages\\Python312\\site-packages\\tf_keras\\src\\losses.py:2976: The name tf.losses.sparse_softmax_cross_entropy is deprecated. Please use tf.compat.v1.losses.sparse_softmax_cross_entropy instead.\n",
      "\n"
     ]
    }
   ],
   "source": [
    "import os\n",
    "from matplotlib import pyplot as plt\n",
    "import numpy as np\n",
    "from PIL import Image\n",
    "from tensorflow.keras.layers import Conv2D, MaxPooling2D, Input, UpSampling2D, Activation, Concatenate\n",
    "from tensorflow.keras.models import Model, load_model\n",
    "from tensorflow.keras.preprocessing import image"
   ]
  },
  {
   "cell_type": "code",
   "execution_count": null,
   "metadata": {},
   "outputs": [],
   "source": [
    "input_shape = (1024, 1024)\n",
    "\n",
    "def encoder_block(input_tensor, num_filters):\n",
    "    \"\"\"Encoder block: Conv2D -> ReLU -> Conv2D -> ReLU -> MaxPooling.\"\"\"\n",
    "    x = Conv2D(num_filters, 3, padding=\"same\")(input_tensor)\n",
    "    x = Activation(\"relu\")(x)\n",
    "    x = Conv2D(num_filters, 3, padding=\"same\")(x)\n",
    "    x = Activation(\"relu\")(x)\n",
    "    p = MaxPooling2D((2, 2))(x)\n",
    "    return x, p\n",
    "\n",
    "def decoder_block(input_tensor, skip_tensor, num_filters):\n",
    "    \"\"\"Decoder block: UpSampling2D -> Conv2D -> Concatenate -> Conv2D -> ReLU.\"\"\"\n",
    "    x = UpSampling2D((2, 2))(input_tensor)\n",
    "    x = Conv2D(num_filters, 2, padding=\"same\")(x)\n",
    "    x = Concatenate()([x, skip_tensor])\n",
    "    x = Conv2D(num_filters, 3, padding=\"same\")(x)\n",
    "    x = Activation(\"relu\")(x)\n",
    "    x = Conv2D(num_filters, 3, padding=\"same\")(x)\n",
    "    x = Activation(\"relu\")(x)\n",
    "    return x\n",
    "\n",
    "def create_unet_model(input_shape=(256, 256, 3), num_classes=2):\n",
    "    \"\"\"Create U-Net model.\"\"\"\n",
    "    inputs = Input(input_shape)\n",
    "\n",
    "    # Contracting Path\n",
    "    s1, p1 = encoder_block(inputs, 64)\n",
    "    s2, p2 = encoder_block(p1, 128)\n",
    "    s3, p3 = encoder_block(p2, 256)\n",
    "    s4, p4 = encoder_block(p3, 512)\n",
    "    s5, p5 = encoder_block(p4, 1024)\n",
    "    \n",
    "    # Bottleneck\n",
    "    b1 = Conv2D(2048, 3, padding=\"same\")(p5)\n",
    "    b1 = Activation(\"relu\")(b1)\n",
    "    b1 = Conv2D(2048, 3, padding=\"same\")(b1)\n",
    "    b1 = Activation(\"relu\")(b1)\n",
    "\n",
    "    # Expansive Path\n",
    "    d0 = decoder_block(b1, s5, 1024)\n",
    "    d1 = decoder_block(d0, s4, 512)\n",
    "    d2 = decoder_block(d1, s3, 256)\n",
    "    d3 = decoder_block(d2, s2, 128)\n",
    "    d4 = decoder_block(d3, s1, 64)\n",
    "\n",
    "    # Output\n",
    "    outputs = Conv2D(num_classes, 1, padding=\"same\", activation=\"sigmoid\")(d4)\n",
    "\n",
    "    model = Model(inputs=inputs, outputs=outputs, name=\"U-Net\")\n",
    "    return model"
   ]
  },
  {
   "cell_type": "code",
   "execution_count": null,
   "metadata": {},
   "outputs": [
    {
     "name": "stdout",
     "output_type": "stream",
     "text": [
      "Loading pre-trained U-net model...\n",
      "WARNING:tensorflow:From C:\\Users\\FreeComp\\AppData\\Local\\Packages\\PythonSoftwareFoundation.Python.3.12_qbz5n2kfra8p0\\LocalCache\\local-packages\\Python312\\site-packages\\tf_keras\\src\\backend.py:1400: The name tf.executing_eagerly_outside_functions is deprecated. Please use tf.compat.v1.executing_eagerly_outside_functions instead.\n",
      "\n",
      "WARNING:tensorflow:From C:\\Users\\FreeComp\\AppData\\Local\\Packages\\PythonSoftwareFoundation.Python.3.12_qbz5n2kfra8p0\\LocalCache\\local-packages\\Python312\\site-packages\\tf_keras\\src\\layers\\pooling\\max_pooling2d.py:161: The name tf.nn.max_pool is deprecated. Please use tf.nn.max_pool2d instead.\n",
      "\n",
      "WARNING:tensorflow:No training configuration found in the save file, so the model was *not* compiled. Compile it manually.\n"
     ]
    }
   ],
   "source": [
    "model_file_path = \"U-net_model1.h5\"\n",
    "\n",
    "# Check if the U-Net model exists and load it, else train it\n",
    "if os.path.exists(model_file_path):\n",
    "    print(\"Loading pre-trained U-Net model...\")\n",
    "    unet_model = load_model(model_file_path)\n",
    "else:\n",
    "    print(\"Training U-Net model...\")\n",
    "    # Create U-Net model\n",
    "    unet_model = create_unet_model(input_shape=input_shape + (3,), num_classes=2)\n",
    "\n",
    "    # Save the trained U-Net model\n",
    "    unet_model.save(model_file_path)\n",
    "    print(\"U-Net model saved.\")"
   ]
  },
  {
   "cell_type": "code",
   "execution_count": null,
   "metadata": {},
   "outputs": [],
   "source": [
    "\n",
    "image_file_path = \"SpiderMan.jpg\"\n",
    "\n",
    "# Load and preprocess the image\n",
    "img = Image.open(image_file_path).resize(input_shape)\n",
    "img_array = image.img_to_array(img)\n",
    "img_array = np.expand_dims(img_array[:, :, :3], axis=0) / 255.0\n",
    "\n",
    "# Predict\n",
    "prediction = unet_model.predict(img_array)\n",
    "\n",
    "# Post-process prediction\n",
    "prediction = np.squeeze(prediction, axis=0)  # Remove batch dimension\n",
    "prediction = np.argmax(prediction, axis=-1)  # Remove channel dimension if it exists\n",
    "prediction = Image.fromarray(np.uint8(prediction * 255))  # Convert to grayscale image  \n",
    "prediction = prediction.resize((img.width, img.height))  # Resize back to original dimensions\n",
    "\n",
    "# Display the result\n",
    "plt.imshow(prediction, cmap='gray')\n",
    "plt.axis('off')\n",
    "plt.show()\n"
   ]
  }
 ],
 "metadata": {
  "kernelspec": {
   "display_name": "Python 3",
   "language": "python",
   "name": "python3"
  },
  "language_info": {
   "codemirror_mode": {
    "name": "ipython",
    "version": 3
   },
   "file_extension": ".py",
   "mimetype": "text/x-python",
   "name": "python",
   "nbconvert_exporter": "python",
   "pygments_lexer": "ipython3",
   "version": "3.11.7"
  }
 },
 "nbformat": 4,
 "nbformat_minor": 2
}
